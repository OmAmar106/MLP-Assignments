{
 "cells": [
  {
   "cell_type": "code",
   "execution_count": 1,
   "metadata": {},
   "outputs": [],
   "source": [
    "import pandas as pd\n",
    "import numpy as np"
   ]
  },
  {
   "cell_type": "code",
   "execution_count": 2,
   "metadata": {},
   "outputs": [
    {
     "data": {
      "text/html": [
       "<div>\n",
       "<style scoped>\n",
       "    .dataframe tbody tr th:only-of-type {\n",
       "        vertical-align: middle;\n",
       "    }\n",
       "\n",
       "    .dataframe tbody tr th {\n",
       "        vertical-align: top;\n",
       "    }\n",
       "\n",
       "    .dataframe thead th {\n",
       "        text-align: right;\n",
       "    }\n",
       "</style>\n",
       "<table border=\"1\" class=\"dataframe\">\n",
       "  <thead>\n",
       "    <tr style=\"text-align: right;\">\n",
       "      <th></th>\n",
       "      <th>Date</th>\n",
       "      <th>Year</th>\n",
       "      <th>Locality</th>\n",
       "      <th>Estimated Value</th>\n",
       "      <th>Sale Price</th>\n",
       "      <th>Property</th>\n",
       "      <th>Residential</th>\n",
       "      <th>num_rooms</th>\n",
       "      <th>num_bathrooms</th>\n",
       "      <th>carpet_area</th>\n",
       "      <th>property_tax_rate</th>\n",
       "      <th>Face</th>\n",
       "    </tr>\n",
       "  </thead>\n",
       "  <tbody>\n",
       "    <tr>\n",
       "      <th>0</th>\n",
       "      <td>2009-01-02</td>\n",
       "      <td>2009</td>\n",
       "      <td>Waterbury</td>\n",
       "      <td>111440.0</td>\n",
       "      <td>185000.0</td>\n",
       "      <td>Single Family</td>\n",
       "      <td>Detached House</td>\n",
       "      <td>3</td>\n",
       "      <td>3</td>\n",
       "      <td>996.0</td>\n",
       "      <td>1.025953</td>\n",
       "      <td>South</td>\n",
       "    </tr>\n",
       "    <tr>\n",
       "      <th>1</th>\n",
       "      <td>2009-01-02</td>\n",
       "      <td>2009</td>\n",
       "      <td>Bridgeport</td>\n",
       "      <td>124670.0</td>\n",
       "      <td>150000.0</td>\n",
       "      <td>Two Family</td>\n",
       "      <td>Duplex</td>\n",
       "      <td>4</td>\n",
       "      <td>3</td>\n",
       "      <td>1241.0</td>\n",
       "      <td>1.025953</td>\n",
       "      <td>South</td>\n",
       "    </tr>\n",
       "    <tr>\n",
       "      <th>2</th>\n",
       "      <td>2009-01-02</td>\n",
       "      <td>2009</td>\n",
       "      <td>Waterbury</td>\n",
       "      <td>55720.0</td>\n",
       "      <td>140000.0</td>\n",
       "      <td>Single Family</td>\n",
       "      <td>Detached House</td>\n",
       "      <td>3</td>\n",
       "      <td>2</td>\n",
       "      <td>910.0</td>\n",
       "      <td>1.025953</td>\n",
       "      <td>South</td>\n",
       "    </tr>\n",
       "    <tr>\n",
       "      <th>3</th>\n",
       "      <td>2009-01-02</td>\n",
       "      <td>2009</td>\n",
       "      <td>Bridgeport</td>\n",
       "      <td>4775276.0</td>\n",
       "      <td>272900.0</td>\n",
       "      <td>Single Family</td>\n",
       "      <td>Detached House</td>\n",
       "      <td>3</td>\n",
       "      <td>1</td>\n",
       "      <td>971.0</td>\n",
       "      <td>1.025953</td>\n",
       "      <td>East</td>\n",
       "    </tr>\n",
       "    <tr>\n",
       "      <th>4</th>\n",
       "      <td>2009-01-02</td>\n",
       "      <td>2009</td>\n",
       "      <td>Bridgeport</td>\n",
       "      <td>112351.0</td>\n",
       "      <td>210000.0</td>\n",
       "      <td>?</td>\n",
       "      <td>Detached House</td>\n",
       "      <td>3</td>\n",
       "      <td>2</td>\n",
       "      <td>1092.0</td>\n",
       "      <td>1.025953</td>\n",
       "      <td>East</td>\n",
       "    </tr>\n",
       "  </tbody>\n",
       "</table>\n",
       "</div>"
      ],
      "text/plain": [
       "         Date  Year    Locality  Estimated Value  Sale Price       Property  \\\n",
       "0  2009-01-02  2009   Waterbury         111440.0    185000.0  Single Family   \n",
       "1  2009-01-02  2009  Bridgeport         124670.0    150000.0     Two Family   \n",
       "2  2009-01-02  2009   Waterbury          55720.0    140000.0  Single Family   \n",
       "3  2009-01-02  2009  Bridgeport        4775276.0    272900.0  Single Family   \n",
       "4  2009-01-02  2009  Bridgeport         112351.0    210000.0              ?   \n",
       "\n",
       "      Residential  num_rooms  num_bathrooms  carpet_area  property_tax_rate  \\\n",
       "0  Detached House          3              3        996.0           1.025953   \n",
       "1          Duplex          4              3       1241.0           1.025953   \n",
       "2  Detached House          3              2        910.0           1.025953   \n",
       "3  Detached House          3              1        971.0           1.025953   \n",
       "4  Detached House          3              2       1092.0           1.025953   \n",
       "\n",
       "    Face  \n",
       "0  South  \n",
       "1  South  \n",
       "2  South  \n",
       "3   East  \n",
       "4   East  "
      ]
     },
     "execution_count": 2,
     "metadata": {},
     "output_type": "execute_result"
    }
   ],
   "source": [
    "df = pd.read_csv('V5.csv')\n",
    "df.head()"
   ]
  },
  {
   "cell_type": "markdown",
   "metadata": {},
   "source": [
    "Q1 . Replace all the ? with NAN"
   ]
  },
  {
   "cell_type": "code",
   "execution_count": 3,
   "metadata": {},
   "outputs": [
    {
     "name": "stdout",
     "output_type": "stream",
     "text": [
      "1823\n"
     ]
    }
   ],
   "source": [
    "count = 0\n",
    "for index,row in df.iterrows():\n",
    "    for key,value in row.items():\n",
    "        if value=='?':\n",
    "            count += 1\n",
    "            df.at[index,key] = np.nan\n",
    "\n",
    "print(count)"
   ]
  },
  {
   "cell_type": "code",
   "execution_count": 4,
   "metadata": {},
   "outputs": [
    {
     "data": {
      "text/html": [
       "<div>\n",
       "<style scoped>\n",
       "    .dataframe tbody tr th:only-of-type {\n",
       "        vertical-align: middle;\n",
       "    }\n",
       "\n",
       "    .dataframe tbody tr th {\n",
       "        vertical-align: top;\n",
       "    }\n",
       "\n",
       "    .dataframe thead th {\n",
       "        text-align: right;\n",
       "    }\n",
       "</style>\n",
       "<table border=\"1\" class=\"dataframe\">\n",
       "  <thead>\n",
       "    <tr style=\"text-align: right;\">\n",
       "      <th></th>\n",
       "      <th>Date</th>\n",
       "      <th>Year</th>\n",
       "      <th>Locality</th>\n",
       "      <th>Estimated Value</th>\n",
       "      <th>Sale Price</th>\n",
       "      <th>Property</th>\n",
       "      <th>Residential</th>\n",
       "      <th>num_rooms</th>\n",
       "      <th>num_bathrooms</th>\n",
       "      <th>carpet_area</th>\n",
       "      <th>property_tax_rate</th>\n",
       "      <th>Face</th>\n",
       "    </tr>\n",
       "  </thead>\n",
       "  <tbody>\n",
       "    <tr>\n",
       "      <th>0</th>\n",
       "      <td>2009-01-02</td>\n",
       "      <td>2009</td>\n",
       "      <td>Waterbury</td>\n",
       "      <td>111440.0</td>\n",
       "      <td>185000.0</td>\n",
       "      <td>Single Family</td>\n",
       "      <td>Detached House</td>\n",
       "      <td>3</td>\n",
       "      <td>3</td>\n",
       "      <td>996.0</td>\n",
       "      <td>1.025953</td>\n",
       "      <td>South</td>\n",
       "    </tr>\n",
       "    <tr>\n",
       "      <th>1</th>\n",
       "      <td>2009-01-02</td>\n",
       "      <td>2009</td>\n",
       "      <td>Bridgeport</td>\n",
       "      <td>124670.0</td>\n",
       "      <td>150000.0</td>\n",
       "      <td>Two Family</td>\n",
       "      <td>Duplex</td>\n",
       "      <td>4</td>\n",
       "      <td>3</td>\n",
       "      <td>1241.0</td>\n",
       "      <td>1.025953</td>\n",
       "      <td>South</td>\n",
       "    </tr>\n",
       "    <tr>\n",
       "      <th>2</th>\n",
       "      <td>2009-01-02</td>\n",
       "      <td>2009</td>\n",
       "      <td>Waterbury</td>\n",
       "      <td>55720.0</td>\n",
       "      <td>140000.0</td>\n",
       "      <td>Single Family</td>\n",
       "      <td>Detached House</td>\n",
       "      <td>3</td>\n",
       "      <td>2</td>\n",
       "      <td>910.0</td>\n",
       "      <td>1.025953</td>\n",
       "      <td>South</td>\n",
       "    </tr>\n",
       "    <tr>\n",
       "      <th>3</th>\n",
       "      <td>2009-01-02</td>\n",
       "      <td>2009</td>\n",
       "      <td>Bridgeport</td>\n",
       "      <td>4775276.0</td>\n",
       "      <td>272900.0</td>\n",
       "      <td>Single Family</td>\n",
       "      <td>Detached House</td>\n",
       "      <td>3</td>\n",
       "      <td>1</td>\n",
       "      <td>971.0</td>\n",
       "      <td>1.025953</td>\n",
       "      <td>East</td>\n",
       "    </tr>\n",
       "    <tr>\n",
       "      <th>4</th>\n",
       "      <td>2009-01-02</td>\n",
       "      <td>2009</td>\n",
       "      <td>Bridgeport</td>\n",
       "      <td>112351.0</td>\n",
       "      <td>210000.0</td>\n",
       "      <td>NaN</td>\n",
       "      <td>Detached House</td>\n",
       "      <td>3</td>\n",
       "      <td>2</td>\n",
       "      <td>1092.0</td>\n",
       "      <td>1.025953</td>\n",
       "      <td>East</td>\n",
       "    </tr>\n",
       "  </tbody>\n",
       "</table>\n",
       "</div>"
      ],
      "text/plain": [
       "         Date  Year    Locality  Estimated Value  Sale Price       Property  \\\n",
       "0  2009-01-02  2009   Waterbury         111440.0    185000.0  Single Family   \n",
       "1  2009-01-02  2009  Bridgeport         124670.0    150000.0     Two Family   \n",
       "2  2009-01-02  2009   Waterbury          55720.0    140000.0  Single Family   \n",
       "3  2009-01-02  2009  Bridgeport        4775276.0    272900.0  Single Family   \n",
       "4  2009-01-02  2009  Bridgeport         112351.0    210000.0            NaN   \n",
       "\n",
       "      Residential  num_rooms  num_bathrooms  carpet_area  property_tax_rate  \\\n",
       "0  Detached House          3              3        996.0           1.025953   \n",
       "1          Duplex          4              3       1241.0           1.025953   \n",
       "2  Detached House          3              2        910.0           1.025953   \n",
       "3  Detached House          3              1        971.0           1.025953   \n",
       "4  Detached House          3              2       1092.0           1.025953   \n",
       "\n",
       "    Face  \n",
       "0  South  \n",
       "1  South  \n",
       "2  South  \n",
       "3   East  \n",
       "4   East  "
      ]
     },
     "execution_count": 4,
     "metadata": {},
     "output_type": "execute_result"
    }
   ],
   "source": [
    "df.head()"
   ]
  },
  {
   "cell_type": "markdown",
   "metadata": {},
   "source": [
    "Q2 . What is the shape of the dataset"
   ]
  },
  {
   "cell_type": "code",
   "execution_count": 5,
   "metadata": {},
   "outputs": [
    {
     "data": {
      "text/plain": [
       "(10000, 12)"
      ]
     },
     "execution_count": 5,
     "metadata": {},
     "output_type": "execute_result"
    }
   ],
   "source": [
    "df.shape"
   ]
  },
  {
   "cell_type": "markdown",
   "metadata": {},
   "source": [
    "Q3 . What is the value present at the 692th indexed row and 0th indexed column in the data"
   ]
  },
  {
   "cell_type": "code",
   "execution_count": 6,
   "metadata": {},
   "outputs": [
    {
     "data": {
      "text/plain": [
       "'2009-11-16'"
      ]
     },
     "execution_count": 6,
     "metadata": {},
     "output_type": "execute_result"
    }
   ],
   "source": [
    "df.at[692,\"Date\"]"
   ]
  },
  {
   "cell_type": "markdown",
   "metadata": {},
   "source": [
    "Q4 . What is the value present at the 546th indexed row and 7th indexed column in the data"
   ]
  },
  {
   "cell_type": "code",
   "execution_count": 7,
   "metadata": {},
   "outputs": [
    {
     "data": {
      "text/plain": [
       "3"
      ]
     },
     "execution_count": 7,
     "metadata": {},
     "output_type": "execute_result"
    }
   ],
   "source": [
    "df.at[546,\"num_rooms\"]"
   ]
  },
  {
   "cell_type": "markdown",
   "metadata": {},
   "source": [
    "Q5 . What are the unique values present in the locality feature of the dataset"
   ]
  },
  {
   "cell_type": "code",
   "execution_count": 8,
   "metadata": {},
   "outputs": [
    {
     "name": "stdout",
     "output_type": "stream",
     "text": [
      "{'Fairfield', 'Bridgeport', 'Greenwich', 'West Hartford', nan, 'Norwalk', 'Waterbury', 'Stamford'}\n"
     ]
    }
   ],
   "source": [
    "s = set()\n",
    "for index,row in df.iterrows():\n",
    "    s.add(row[\"Locality\"])\n",
    "\n",
    "print(s)"
   ]
  },
  {
   "cell_type": "markdown",
   "metadata": {},
   "source": [
    "Q6 . Which of the following have missing(NaN) values present in the dataset?"
   ]
  },
  {
   "cell_type": "code",
   "execution_count": 9,
   "metadata": {},
   "outputs": [
    {
     "name": "stdout",
     "output_type": "stream",
     "text": [
      "{'Locality', 'Estimated Value', 'carpet_area', 'Property'}\n"
     ]
    }
   ],
   "source": [
    "s = set()\n",
    "for index,row in df.iterrows():\n",
    "    for key,value in row.items():\n",
    "        if pd.isna(value):\n",
    "            s.add(key)\n",
    "\n",
    "print(s)"
   ]
  },
  {
   "cell_type": "markdown",
   "metadata": {},
   "source": [
    "Q7 . Which of the following has most missing(NaN) values present in the dataset?"
   ]
  },
  {
   "cell_type": "code",
   "execution_count": 10,
   "metadata": {},
   "outputs": [
    {
     "name": "stdout",
     "output_type": "stream",
     "text": [
      "Property\n"
     ]
    }
   ],
   "source": [
    "from collections import Counter\n",
    "\n",
    "d = Counter()\n",
    "\n",
    "for index,row in df.iterrows():\n",
    "    for key,value in row.items():\n",
    "        if pd.isna(value):\n",
    "            d[key] += 1\n",
    "\n",
    "ans = 0\n",
    "ans1 = \"\"\n",
    "for i in d:\n",
    "    if d[i]>ans:\n",
    "        ans = d[i]\n",
    "        ans1 = i\n",
    "        \n",
    "print(ans1)"
   ]
  },
  {
   "cell_type": "markdown",
   "metadata": {},
   "source": [
    "Q8 . Drop all the samples with missing values strictly greater than 2. How many samples remain after this?"
   ]
  },
  {
   "cell_type": "code",
   "execution_count": 14,
   "metadata": {},
   "outputs": [
    {
     "name": "stdout",
     "output_type": "stream",
     "text": [
      "(9917, 12)\n"
     ]
    }
   ],
   "source": [
    "L = []\n",
    "\n",
    "for index,row in df.iterrows():\n",
    "    count = 0\n",
    "    for key,value in row.items():\n",
    "        if pd.isna(value):\n",
    "            count += 1\n",
    "    if count>2:\n",
    "        L.append(index)\n",
    "df = df.drop(index=L)\n",
    "print(df.shape)"
   ]
  },
  {
   "cell_type": "markdown",
   "metadata": {},
   "source": [
    "Q9 . Drop all the samples(rows) with missing values in the orignal dataframe. How many samples remains after that?"
   ]
  },
  {
   "cell_type": "code",
   "execution_count": 15,
   "metadata": {},
   "outputs": [
    {
     "name": "stdout",
     "output_type": "stream",
     "text": [
      "(5449, 12)\n"
     ]
    }
   ],
   "source": [
    "L = []\n",
    "for index,row in df.iterrows():\n",
    "    count = 0\n",
    "    for key,value in row.items():\n",
    "        if pd.isna(value):\n",
    "            count += 1\n",
    "    if count:\n",
    "        L.append(index)\n",
    "df = df.drop(index=L)\n",
    "print(df.shape)"
   ]
  }
 ],
 "metadata": {
  "kernelspec": {
   "display_name": "Python 3",
   "language": "python",
   "name": "python3"
  },
  "language_info": {
   "codemirror_mode": {
    "name": "ipython",
    "version": 3
   },
   "file_extension": ".py",
   "mimetype": "text/x-python",
   "name": "python",
   "nbconvert_exporter": "python",
   "pygments_lexer": "ipython3",
   "version": "3.11.0"
  }
 },
 "nbformat": 4,
 "nbformat_minor": 2
}
