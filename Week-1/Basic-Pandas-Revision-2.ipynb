{
 "cells": [
  {
   "cell_type": "code",
   "execution_count": 6,
   "metadata": {},
   "outputs": [],
   "source": [
    "import pandas as pd\n",
    "import numpy as np"
   ]
  },
  {
   "cell_type": "code",
   "execution_count": 33,
   "metadata": {},
   "outputs": [
    {
     "data": {
      "text/html": [
       "<div>\n",
       "<style scoped>\n",
       "    .dataframe tbody tr th:only-of-type {\n",
       "        vertical-align: middle;\n",
       "    }\n",
       "\n",
       "    .dataframe tbody tr th {\n",
       "        vertical-align: top;\n",
       "    }\n",
       "\n",
       "    .dataframe thead th {\n",
       "        text-align: right;\n",
       "    }\n",
       "</style>\n",
       "<table border=\"1\" class=\"dataframe\">\n",
       "  <thead>\n",
       "    <tr style=\"text-align: right;\">\n",
       "      <th></th>\n",
       "      <th>Date</th>\n",
       "      <th>Year</th>\n",
       "      <th>Locality</th>\n",
       "      <th>Estimated Value</th>\n",
       "      <th>Sale Price</th>\n",
       "      <th>Property</th>\n",
       "      <th>Residential</th>\n",
       "      <th>num_rooms</th>\n",
       "      <th>num_bathrooms</th>\n",
       "      <th>carpet_area</th>\n",
       "      <th>property_tax_rate</th>\n",
       "      <th>Face</th>\n",
       "    </tr>\n",
       "  </thead>\n",
       "  <tbody>\n",
       "    <tr>\n",
       "      <th>0</th>\n",
       "      <td>2009-01-02</td>\n",
       "      <td>2009</td>\n",
       "      <td>Waterbury</td>\n",
       "      <td>111440.0</td>\n",
       "      <td>185000.0</td>\n",
       "      <td>Single Family</td>\n",
       "      <td>Detached House</td>\n",
       "      <td>3</td>\n",
       "      <td>3</td>\n",
       "      <td>996.0</td>\n",
       "      <td>1.025953</td>\n",
       "      <td>South</td>\n",
       "    </tr>\n",
       "    <tr>\n",
       "      <th>1</th>\n",
       "      <td>2009-01-02</td>\n",
       "      <td>2009</td>\n",
       "      <td>Bridgeport</td>\n",
       "      <td>124670.0</td>\n",
       "      <td>150000.0</td>\n",
       "      <td>Two Family</td>\n",
       "      <td>Duplex</td>\n",
       "      <td>4</td>\n",
       "      <td>3</td>\n",
       "      <td>1241.0</td>\n",
       "      <td>1.025953</td>\n",
       "      <td>South</td>\n",
       "    </tr>\n",
       "    <tr>\n",
       "      <th>2</th>\n",
       "      <td>2009-01-02</td>\n",
       "      <td>2009</td>\n",
       "      <td>Waterbury</td>\n",
       "      <td>55720.0</td>\n",
       "      <td>140000.0</td>\n",
       "      <td>Single Family</td>\n",
       "      <td>Detached House</td>\n",
       "      <td>3</td>\n",
       "      <td>2</td>\n",
       "      <td>910.0</td>\n",
       "      <td>1.025953</td>\n",
       "      <td>South</td>\n",
       "    </tr>\n",
       "    <tr>\n",
       "      <th>3</th>\n",
       "      <td>2009-01-02</td>\n",
       "      <td>2009</td>\n",
       "      <td>Bridgeport</td>\n",
       "      <td>4775276.0</td>\n",
       "      <td>272900.0</td>\n",
       "      <td>Single Family</td>\n",
       "      <td>Detached House</td>\n",
       "      <td>3</td>\n",
       "      <td>1</td>\n",
       "      <td>971.0</td>\n",
       "      <td>1.025953</td>\n",
       "      <td>East</td>\n",
       "    </tr>\n",
       "    <tr>\n",
       "      <th>4</th>\n",
       "      <td>2009-01-02</td>\n",
       "      <td>2009</td>\n",
       "      <td>Bridgeport</td>\n",
       "      <td>112351.0</td>\n",
       "      <td>210000.0</td>\n",
       "      <td>?</td>\n",
       "      <td>Detached House</td>\n",
       "      <td>3</td>\n",
       "      <td>2</td>\n",
       "      <td>1092.0</td>\n",
       "      <td>1.025953</td>\n",
       "      <td>East</td>\n",
       "    </tr>\n",
       "  </tbody>\n",
       "</table>\n",
       "</div>"
      ],
      "text/plain": [
       "         Date  Year    Locality  Estimated Value  Sale Price       Property  \\\n",
       "0  2009-01-02  2009   Waterbury         111440.0    185000.0  Single Family   \n",
       "1  2009-01-02  2009  Bridgeport         124670.0    150000.0     Two Family   \n",
       "2  2009-01-02  2009   Waterbury          55720.0    140000.0  Single Family   \n",
       "3  2009-01-02  2009  Bridgeport        4775276.0    272900.0  Single Family   \n",
       "4  2009-01-02  2009  Bridgeport         112351.0    210000.0              ?   \n",
       "\n",
       "      Residential  num_rooms  num_bathrooms  carpet_area  property_tax_rate  \\\n",
       "0  Detached House          3              3        996.0           1.025953   \n",
       "1          Duplex          4              3       1241.0           1.025953   \n",
       "2  Detached House          3              2        910.0           1.025953   \n",
       "3  Detached House          3              1        971.0           1.025953   \n",
       "4  Detached House          3              2       1092.0           1.025953   \n",
       "\n",
       "    Face  \n",
       "0  South  \n",
       "1  South  \n",
       "2  South  \n",
       "3   East  \n",
       "4   East  "
      ]
     },
     "execution_count": 33,
     "metadata": {},
     "output_type": "execute_result"
    }
   ],
   "source": [
    "df = pd.read_csv('V5.csv')\n",
    "df.head()"
   ]
  },
  {
   "cell_type": "markdown",
   "metadata": {},
   "source": [
    "Q1 . Select all the even indexed rows from the given data set. What is the value in the 3rd indexed column of the 0th indexed row in the selected dataframe"
   ]
  },
  {
   "cell_type": "code",
   "execution_count": 34,
   "metadata": {},
   "outputs": [
    {
     "name": "stdout",
     "output_type": "stream",
     "text": [
      "111440.0\n"
     ]
    }
   ],
   "source": [
    "L = []\n",
    "for i in range(df.shape[0]):\n",
    "    if i%2:\n",
    "        L.append(i)\n",
    "df1 = df.drop(index=L)\n",
    "df1 = df1.reset_index(drop=True)\n",
    "df1.head()\n",
    "print(df1.at[0,\"Estimated Value\"])"
   ]
  },
  {
   "cell_type": "markdown",
   "metadata": {},
   "source": [
    "Q2 . Select all the even indexed rows from the given data set. What is the value in the 3rd indexed column of the 322th indexed row in the selected dataframe"
   ]
  },
  {
   "cell_type": "code",
   "execution_count": 35,
   "metadata": {},
   "outputs": [
    {
     "name": "stdout",
     "output_type": "stream",
     "text": [
      "         Date  Year    Locality  Estimated Value  Sale Price       Property  \\\n",
      "0  2009-01-02  2009   Waterbury         111440.0    185000.0  Single Family   \n",
      "1  2009-01-02  2009   Waterbury          55720.0    140000.0  Single Family   \n",
      "2  2009-01-02  2009  Bridgeport         112351.0    210000.0              ?   \n",
      "3  2009-01-02  2009     Norwalk         571060.0   1000000.0  Single Family   \n",
      "4  2009-01-02  2009         NaN         603540.0   1680000.0  Single Family   \n",
      "\n",
      "      Residential  num_rooms  num_bathrooms  carpet_area  property_tax_rate  \\\n",
      "0  Detached House          3              3        996.0           1.025953   \n",
      "1  Detached House          3              2        910.0           1.025953   \n",
      "2  Detached House          3              2       1092.0           1.025953   \n",
      "3  Detached House          3              2          NaN           1.025953   \n",
      "4  Detached House          3              1       1039.0           1.025953   \n",
      "\n",
      "    Face  \n",
      "0  South  \n",
      "1  South  \n",
      "2   East  \n",
      "3  South  \n",
      "4   East  \n",
      "256200.0\n"
     ]
    }
   ],
   "source": [
    "print(df1.head())\n",
    "print(df1.at[332,\"Estimated Value\"])"
   ]
  },
  {
   "cell_type": "markdown",
   "metadata": {},
   "source": [
    "Q3 . Select all the odd indexed rows from the given dataset. What is the value in the 3rd indexed column of the 332th indexed row in the selected dataframe"
   ]
  },
  {
   "cell_type": "code",
   "execution_count": 36,
   "metadata": {},
   "outputs": [
    {
     "name": "stdout",
     "output_type": "stream",
     "text": [
      "352940.0\n"
     ]
    }
   ],
   "source": [
    "L = []\n",
    "for i in range(df.shape[0]):\n",
    "    if i%2==0:\n",
    "        L.append(i)\n",
    "df2 = df.drop(index=L)\n",
    "df2 = df2.reset_index(drop=True)\n",
    "df2.head()\n",
    "print(df2.at[332,\"Estimated Value\"])"
   ]
  },
  {
   "cell_type": "markdown",
   "metadata": {},
   "source": [
    "Q4 . Select all the odd indexed rows from the given dataset. What is the value in the 5th indexed column of the 100th indexed row in the selected dataframe"
   ]
  },
  {
   "cell_type": "code",
   "execution_count": 39,
   "metadata": {},
   "outputs": [
    {
     "name": "stdout",
     "output_type": "stream",
     "text": [
      "Single Family\n"
     ]
    }
   ],
   "source": [
    "print(df2.iloc[255,5]) # iloc is better if you have the row and column number directly"
   ]
  },
  {
   "cell_type": "markdown",
   "metadata": {},
   "source": [
    "Q5 . Select all the even indexed columns and even indexed rows from the given datasets. What is the value in the 3rd indexed column of the 255th indexed row in the selected dataframe"
   ]
  },
  {
   "cell_type": "code",
   "execution_count": 42,
   "metadata": {},
   "outputs": [
    {
     "name": "stdout",
     "output_type": "stream",
     "text": [
      "Detached House\n"
     ]
    }
   ],
   "source": [
    "print(df1.iloc[255,6]) # 6 since i only need the even columns as well "
   ]
  },
  {
   "cell_type": "markdown",
   "metadata": {},
   "source": [
    "Q6 . Determine the number of samples in the dataset that belong to the six most recent years, based on the provided data"
   ]
  },
  {
   "cell_type": "code",
   "execution_count": 49,
   "metadata": {},
   "outputs": [
    {
     "name": "stdout",
     "output_type": "stream",
     "text": [
      "5548\n"
     ]
    }
   ],
   "source": [
    "L = []\n",
    "for index,row in df.iterrows():\n",
    "    L.append(row[\"Year\"])\n",
    "\n",
    "f = max(L)\n",
    "ans = 0\n",
    "for i in L:\n",
    "    if f-i<=6:\n",
    "        ans += 1\n",
    "print(ans)"
   ]
  },
  {
   "cell_type": "markdown",
   "metadata": {},
   "source": [
    "Q7 . Determine the number of samples in the dataset which has num_rooms = 3 and num_bathrooms = 3"
   ]
  },
  {
   "cell_type": "code",
   "execution_count": 50,
   "metadata": {},
   "outputs": [
    {
     "name": "stdout",
     "output_type": "stream",
     "text": [
      "2730\n"
     ]
    }
   ],
   "source": [
    "ans = 0\n",
    "for index,row in df.iterrows():\n",
    "    if row[\"num_rooms\"]==3 and row[\"num_bathrooms\"]==3:\n",
    "        ans += 1\n",
    "print(ans)"
   ]
  },
  {
   "cell_type": "markdown",
   "metadata": {},
   "source": [
    "Q8 . Determine the number of samples in the dataset which has num_rooms = 3 or num_bathrooms = 3"
   ]
  },
  {
   "cell_type": "code",
   "execution_count": 51,
   "metadata": {},
   "outputs": [
    {
     "name": "stdout",
     "output_type": "stream",
     "text": [
      "8591\n"
     ]
    }
   ],
   "source": [
    "ans = 0\n",
    "for index,row in df.iterrows():\n",
    "    if row[\"num_rooms\"]==3 or row[\"num_bathrooms\"]==3:\n",
    "        ans += 1\n",
    "print(ans)"
   ]
  },
  {
   "cell_type": "markdown",
   "metadata": {},
   "source": [
    "Q9 . In the Year 2022, how many houses located in Greenwich Locality have exactly num_rooms==3 and facing towards either the North or East"
   ]
  },
  {
   "cell_type": "code",
   "execution_count": 53,
   "metadata": {},
   "outputs": [
    {
     "name": "stdout",
     "output_type": "stream",
     "text": [
      "42\n"
     ]
    }
   ],
   "source": [
    "ans = 0\n",
    "for index,row in df.iterrows():\n",
    "    if row[\"num_rooms\"]==3 and row[\"Year\"]==2022 and row[\"Locality\"]==\"Greenwich\" and (row[\"Face\"]==\"North\" or row[\"Face\"]==\"East\"):\n",
    "        ans += 1\n",
    "print(ans)"
   ]
  },
  {
   "cell_type": "markdown",
   "metadata": {},
   "source": [
    "Q10 . Calculate the number of samples that correspond to the month of August over all years"
   ]
  },
  {
   "cell_type": "code",
   "execution_count": 54,
   "metadata": {},
   "outputs": [
    {
     "name": "stdout",
     "output_type": "stream",
     "text": [
      "1050\n"
     ]
    }
   ],
   "source": [
    "ans = 0\n",
    "for index,row in df.iterrows():\n",
    "    if row[\"Date\"][5:7]==\"08\":\n",
    "        ans += 1\n",
    "print(ans)"
   ]
  },
  {
   "cell_type": "markdown",
   "metadata": {},
   "source": [
    "Q11 . According to the data which Locality have highest average Sale Price"
   ]
  },
  {
   "cell_type": "code",
   "execution_count": 55,
   "metadata": {},
   "outputs": [
    {
     "name": "stdout",
     "output_type": "stream",
     "text": [
      "Greenwich\n"
     ]
    }
   ],
   "source": [
    "from collections import Counter\n",
    "d = Counter()\n",
    "d1 = Counter()\n",
    "\n",
    "for index,row in df.iterrows():\n",
    "    d[row[\"Locality\"]] += 1\n",
    "    d1[row[\"Locality\"]] += row[\"Sale Price\"]\n",
    "\n",
    "ans = \"\"\n",
    "ans1 = 0\n",
    "for i in d1:\n",
    "    if d1[i]/d[i]>ans1:\n",
    "        ans1 = d1[i]/d[i]\n",
    "        ans = i\n",
    "print(ans)"
   ]
  }
 ],
 "metadata": {
  "kernelspec": {
   "display_name": "Python 3",
   "language": "python",
   "name": "python3"
  },
  "language_info": {
   "codemirror_mode": {
    "name": "ipython",
    "version": 3
   },
   "file_extension": ".py",
   "mimetype": "text/x-python",
   "name": "python",
   "nbconvert_exporter": "python",
   "pygments_lexer": "ipython3",
   "version": "3.11.0"
  }
 },
 "nbformat": 4,
 "nbformat_minor": 2
}
