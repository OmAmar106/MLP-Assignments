{
 "cells": [
  {
   "cell_type": "code",
   "execution_count": 32,
   "metadata": {},
   "outputs": [],
   "source": [
    "import pandas as pd\n",
    "from sklearn.datasets import fetch_california_housing\n",
    "from sklearn.linear_model import LinearRegression\n",
    "from sklearn.preprocessing import StandardScaler\n",
    "from sklearn.model_selection import train_test_split\n",
    "from sklearn.pipeline import Pipeline\n",
    "from sklearn.compose import ColumnTransformer"
   ]
  },
  {
   "cell_type": "code",
   "execution_count": 8,
   "metadata": {},
   "outputs": [],
   "source": [
    "data = fetch_california_housing()\n",
    "df = pd.DataFrame(data.data,columns=data.feature_names)\n",
    "df[\"Target\"] = data.target"
   ]
  },
  {
   "cell_type": "markdown",
   "metadata": {},
   "source": [
    "Q. What is the shape of the data?"
   ]
  },
  {
   "cell_type": "code",
   "execution_count": 9,
   "metadata": {},
   "outputs": [
    {
     "data": {
      "text/plain": [
       "(20640, 9)"
      ]
     },
     "execution_count": 9,
     "metadata": {},
     "output_type": "execute_result"
    }
   ],
   "source": [
    "df.shape"
   ]
  },
  {
   "cell_type": "markdown",
   "metadata": {},
   "source": [
    "Q. Count of missing values?"
   ]
  },
  {
   "cell_type": "code",
   "execution_count": null,
   "metadata": {},
   "outputs": [
    {
     "name": "stdout",
     "output_type": "stream",
     "text": [
      "0\n"
     ]
    }
   ],
   "source": [
    "count = 0\n",
    "for column in df.columns:\n",
    "    count += (df[column].isna()).sum()\n",
    "print(count)"
   ]
  },
  {
   "cell_type": "markdown",
   "metadata": {},
   "source": [
    "Q. Split the dataset into training and test \n",
    "What is the value of house age in the third sample of the test set"
   ]
  },
  {
   "cell_type": "code",
   "execution_count": 15,
   "metadata": {},
   "outputs": [],
   "source": [
    "df1 = df.copy()\n",
    "df1.drop(\"Target\",inplace=True,axis=1)\n",
    "X,Y = df1,df[\"Target\"]"
   ]
  },
  {
   "cell_type": "code",
   "execution_count": 23,
   "metadata": {},
   "outputs": [],
   "source": [
    "X_train,X_test,Y_train,Y_test = train_test_split(X,Y,test_size=0.2,random_state=0,shuffle=False)"
   ]
  },
  {
   "cell_type": "code",
   "execution_count": null,
   "metadata": {},
   "outputs": [
    {
     "name": "stdout",
     "output_type": "stream",
     "text": [
      "28.0\n"
     ]
    }
   ],
   "source": [
    "print(X_test.iloc[2,1])"
   ]
  },
  {
   "cell_type": "code",
   "execution_count": 30,
   "metadata": {},
   "outputs": [
    {
     "name": "stdout",
     "output_type": "stream",
     "text": [
      "             MedInc      HouseAge  ...      Latitude     Longitude\n",
      "count  16512.000000  16512.000000  ...  16512.000000  16512.000000\n",
      "mean       3.800451     29.277313  ...     35.254261   -119.131148\n",
      "std        1.871632     12.789323  ...      2.086646      1.922787\n",
      "min        0.499900      1.000000  ...     32.540000   -124.350000\n",
      "25%        2.525000     19.000000  ...     33.870000   -121.240000\n",
      "50%        3.475000     30.000000  ...     34.100000   -118.300000\n",
      "75%        4.638900     38.000000  ...     37.690000   -117.890000\n",
      "max       15.000100     52.000000  ...     41.950000   -114.310000\n",
      "\n",
      "[8 rows x 8 columns]\n"
     ]
    }
   ],
   "source": [
    "print(X_train.describe())"
   ]
  },
  {
   "cell_type": "code",
   "execution_count": 31,
   "metadata": {},
   "outputs": [
    {
     "name": "stdout",
     "output_type": "stream",
     "text": [
      "count    16512.000000\n",
      "mean         2.020670\n",
      "std          1.135236\n",
      "min          0.149990\n",
      "25%          1.183000\n",
      "50%          1.738000\n",
      "75%          2.536000\n",
      "max          5.000010\n",
      "Name: Target, dtype: float64\n"
     ]
    }
   ],
   "source": [
    "print(Y_train.describe())"
   ]
  },
  {
   "cell_type": "markdown",
   "metadata": {},
   "source": [
    "Q. If we use StandardScaler for preprocessing and LinearRegression for fitting the model with training set obtained in previous questions, what are the coefficients obtained in the predicted model? "
   ]
  },
  {
   "cell_type": "code",
   "execution_count": 33,
   "metadata": {},
   "outputs": [
    {
     "data": {
      "text/plain": [
       "array([ 0.83817967,  0.12032096, -0.32135834,  0.36456599, -0.00170674,\n",
       "       -0.04524631, -0.87994217, -0.82634126])"
      ]
     },
     "execution_count": 33,
     "metadata": {},
     "output_type": "execute_result"
    }
   ],
   "source": [
    "pipeline = Pipeline([\n",
    "    ('sdsc',StandardScaler()),\n",
    "    ('lr',LinearRegression())\n",
    "])\n",
    "\n",
    "# ct = ColumnTransformer(\n",
    "#     transformer=[\n",
    "#         ('pl',pipeline,)\n",
    "#     ]\n",
    "# )\n",
    "pipeline.fit(X_train,Y_train)\n",
    "pipeline.named_steps[\"lr\"].coef_"
   ]
  },
  {
   "cell_type": "markdown",
   "metadata": {},
   "source": [
    "Q. What is the bias term predicted?"
   ]
  },
  {
   "cell_type": "code",
   "execution_count": 34,
   "metadata": {},
   "outputs": [
    {
     "data": {
      "text/plain": [
       "np.float64(2.020670313105614)"
      ]
     },
     "execution_count": 34,
     "metadata": {},
     "output_type": "execute_result"
    }
   ],
   "source": [
    "pipeline.named_steps[\"lr\"].intercept_"
   ]
  }
 ],
 "metadata": {
  "kernelspec": {
   "display_name": "venv",
   "language": "python",
   "name": "python3"
  },
  "language_info": {
   "codemirror_mode": {
    "name": "ipython",
    "version": 3
   },
   "file_extension": ".py",
   "mimetype": "text/x-python",
   "name": "python",
   "nbconvert_exporter": "python",
   "pygments_lexer": "ipython3",
   "version": "3.12.3"
  }
 },
 "nbformat": 4,
 "nbformat_minor": 2
}
