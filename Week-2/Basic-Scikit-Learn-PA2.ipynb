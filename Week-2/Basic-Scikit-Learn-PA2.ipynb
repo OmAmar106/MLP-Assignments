{
 "cells": [
  {
   "cell_type": "code",
   "execution_count": 1,
   "metadata": {},
   "outputs": [],
   "source": [
    "import pandas as pd\n",
    "movie = pd.read_csv('movies.csv')\n",
    "credit = pd.read_csv('credits.csv')"
   ]
  },
  {
   "cell_type": "code",
   "execution_count": 3,
   "metadata": {},
   "outputs": [
    {
     "name": "stdout",
     "output_type": "stream",
     "text": [
      "Index(['budget', 'genres', 'homepage', 'id', 'keywords', 'original_language',\n",
      "       'original_title', 'overview', 'popularity', 'production_companies',\n",
      "       'production_countries', 'release_date', 'revenue', 'runtime',\n",
      "       'spoken_languages', 'status', 'tagline', 'title', 'vote_average',\n",
      "       'vote_count'],\n",
      "      dtype='object')\n",
      "Index(['movie_id', 'title', 'cast', 'crew'], dtype='object')\n"
     ]
    }
   ],
   "source": [
    "print(movie.keys())\n",
    "print(credit.keys())"
   ]
  },
  {
   "cell_type": "markdown",
   "metadata": {},
   "source": [
    "Q1. How many movies are present in the dataset?"
   ]
  },
  {
   "cell_type": "code",
   "execution_count": 4,
   "metadata": {},
   "outputs": [
    {
     "name": "stdout",
     "output_type": "stream",
     "text": [
      "(4803, 20)\n"
     ]
    }
   ],
   "source": [
    "print(movie.shape)"
   ]
  },
  {
   "cell_type": "markdown",
   "metadata": {},
   "source": [
    "Q2. Which movie has the highest runtime?"
   ]
  },
  {
   "cell_type": "code",
   "execution_count": 17,
   "metadata": {},
   "outputs": [
    {
     "name": "stdout",
     "output_type": "stream",
     "text": [
      "Carlos 338.0\n"
     ]
    }
   ],
   "source": [
    "ans = 0\n",
    "maxi = 0\n",
    "for index,row in movie.iterrows():\n",
    "    if row['runtime']>maxi:\n",
    "        maxi = row['runtime']\n",
    "        ans = row['title']\n",
    "\n",
    "print(ans,maxi)"
   ]
  },
  {
   "cell_type": "markdown",
   "metadata": {},
   "source": [
    "Q3. What is the standard deviation of runtimes for the movies in the dataset?"
   ]
  },
  {
   "cell_type": "code",
   "execution_count": 19,
   "metadata": {},
   "outputs": [
    {
     "name": "stdout",
     "output_type": "stream",
     "text": [
      "22.611934588844232\n"
     ]
    }
   ],
   "source": [
    "print(movie['runtime'].std())"
   ]
  },
  {
   "cell_type": "markdown",
   "metadata": {},
   "source": [
    "Q4. How many movies have lower revenue than budgets?"
   ]
  },
  {
   "cell_type": "code",
   "execution_count": 21,
   "metadata": {},
   "outputs": [
    {
     "name": "stdout",
     "output_type": "stream",
     "text": [
      "1326\n"
     ]
    }
   ],
   "source": [
    "print((movie[movie['revenue']<movie['budget']]).shape[0])"
   ]
  },
  {
   "cell_type": "markdown",
   "metadata": {},
   "source": [
    "Q5. For the movies where the revenue is lower than the budget how many movies have a vote_average above 8?"
   ]
  },
  {
   "cell_type": "code",
   "execution_count": 25,
   "metadata": {},
   "outputs": [
    {
     "name": "stdout",
     "output_type": "stream",
     "text": [
      "8\n"
     ]
    }
   ],
   "source": [
    "print((movie[(movie['revenue']<movie['budget']) & (movie['vote_average']>8)]).shape[0])\n",
    "\n",
    "# inside the bracket in a pandas df , & works , and does not , use logical operators only inside it "
   ]
  },
  {
   "cell_type": "markdown",
   "metadata": {},
   "source": [
    "Q6. How many movies are currently in the \"Post Production\" Phase?"
   ]
  },
  {
   "cell_type": "code",
   "execution_count": 28,
   "metadata": {},
   "outputs": [
    {
     "name": "stdout",
     "output_type": "stream",
     "text": [
      "status\n",
      "Released           4795\n",
      "Rumored               5\n",
      "Post Production       3\n",
      "Name: count, dtype: int64\n"
     ]
    }
   ],
   "source": [
    "print(movie['status'].value_counts())"
   ]
  },
  {
   "cell_type": "markdown",
   "metadata": {},
   "source": [
    "Q7. Which year has seen the highest number of movies released?"
   ]
  },
  {
   "cell_type": "code",
   "execution_count": 35,
   "metadata": {},
   "outputs": [
    {
     "name": "stdout",
     "output_type": "stream",
     "text": [
      "2009\n"
     ]
    }
   ],
   "source": [
    "from collections import Counter\n",
    "d = Counter()\n",
    "for index,row in movie.iterrows():\n",
    "    f = row['release_date']\n",
    "    if pd.isna(f):\n",
    "        continue\n",
    "    d[f[:4]] += 1\n",
    "L = d.items()\n",
    "L = list(L)\n",
    "L = sorted(L,key = lambda x:-x[1])\n",
    "print(L[0][0])"
   ]
  },
  {
   "cell_type": "markdown",
   "metadata": {},
   "source": [
    "Q8. Among the movies released in 2015, which movie is ranked 5th in terms of popularity?"
   ]
  },
  {
   "cell_type": "code",
   "execution_count": 61,
   "metadata": {},
   "outputs": [
    {
     "name": "stdout",
     "output_type": "stream",
     "text": [
      "The Martian\n"
     ]
    }
   ],
   "source": [
    "df = movie[movie['release_date'].str[:4]=='2015']\n",
    "L = []\n",
    "for index,row in df.iterrows():\n",
    "    L.append((row['popularity'],row['title']))\n",
    "L.sort(reverse=True)\n",
    "print(L[4][1])"
   ]
  },
  {
   "cell_type": "markdown",
   "metadata": {},
   "source": [
    "Q9. Which director has the most movies listed on the dataset?"
   ]
  },
  {
   "cell_type": "code",
   "execution_count": 60,
   "metadata": {},
   "outputs": [
    {
     "name": "stdout",
     "output_type": "stream",
     "text": [
      "Steven Spielberg\n"
     ]
    }
   ],
   "source": [
    "s = Counter()\n",
    "import json\n",
    "for index,row in credit.iterrows():\n",
    "    for j in json.loads(row['crew']):\n",
    "        if j[\"job\"]==\"Director\":\n",
    "            s[j['name']] += 1\n",
    "L = s.items()\n",
    "L = sorted(list(L),key = lambda x:-x[1])\n",
    "print(L[0][0])"
   ]
  },
  {
   "cell_type": "markdown",
   "metadata": {},
   "source": [
    "Q10. How many movies have been directed by \"James Cameron\"?"
   ]
  },
  {
   "cell_type": "code",
   "execution_count": 62,
   "metadata": {},
   "outputs": [
    {
     "name": "stdout",
     "output_type": "stream",
     "text": [
      "7\n"
     ]
    }
   ],
   "source": [
    "print(s[\"James Cameron\"])"
   ]
  },
  {
   "cell_type": "markdown",
   "metadata": {},
   "source": [
    "Q11. How many movies belong to the comedy genre?"
   ]
  },
  {
   "cell_type": "code",
   "execution_count": 66,
   "metadata": {},
   "outputs": [
    {
     "name": "stdout",
     "output_type": "stream",
     "text": [
      "1722\n"
     ]
    }
   ],
   "source": [
    "ans = 0\n",
    "for index,row in movie.iterrows():\n",
    "    for j in json.loads(row['genres']):\n",
    "        if j[\"name\"]==\"Comedy\":\n",
    "            ans += 1\n",
    "print(ans)"
   ]
  },
  {
   "cell_type": "markdown",
   "metadata": {},
   "source": [
    "Q12. How many movies are tagged with the keywords \"Spy\"?"
   ]
  },
  {
   "cell_type": "code",
   "execution_count": 70,
   "metadata": {},
   "outputs": [
    {
     "name": "stdout",
     "output_type": "stream",
     "text": [
      "40\n"
     ]
    }
   ],
   "source": [
    "ans = 0\n",
    "for index,row in movie.iterrows():\n",
    "    for j in json.loads(row['keywords']):\n",
    "        if j[\"name\"]==\"spy\":\n",
    "            ans += 1\n",
    "print(ans)"
   ]
  },
  {
   "cell_type": "markdown",
   "metadata": {},
   "source": [
    "Q13. Which movie has the highest revenue to budget ratio?"
   ]
  },
  {
   "cell_type": "code",
   "execution_count": 75,
   "metadata": {},
   "outputs": [
    {
     "name": "stdout",
     "output_type": "stream",
     "text": [
      "12890.386666666667 Paranormal Activity\n"
     ]
    }
   ],
   "source": [
    "maxi = 0\n",
    "for index,row in movie.iterrows():\n",
    "    if row['budget']<1000:\n",
    "        continue\n",
    "    f = row['revenue']/row['budget']\n",
    "    if f>maxi:\n",
    "        maxi = f\n",
    "        ans = row['title']\n",
    "\n",
    "print(maxi,ans)"
   ]
  }
 ],
 "metadata": {
  "kernelspec": {
   "display_name": "Python 3",
   "language": "python",
   "name": "python3"
  },
  "language_info": {
   "codemirror_mode": {
    "name": "ipython",
    "version": 3
   },
   "file_extension": ".py",
   "mimetype": "text/x-python",
   "name": "python",
   "nbconvert_exporter": "python",
   "pygments_lexer": "ipython3",
   "version": "3.11.0"
  }
 },
 "nbformat": 4,
 "nbformat_minor": 2
}
